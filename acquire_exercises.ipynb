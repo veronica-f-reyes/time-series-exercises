{
 "cells": [
  {
   "cell_type": "markdown",
   "id": "ef8d1f87",
   "metadata": {},
   "source": [
    "# Time Series: Data Acquisition Exercises\n",
    "***"
   ]
  },
  {
   "cell_type": "markdown",
   "id": "6e6ad86a",
   "metadata": {},
   "source": [
    "#### 1. Using the code from the lesson as a guide and the REST API from https://python.zgulde.net/api/v1/items as we did in the lesson, create a dataframe named items that has all of the data for items."
   ]
  },
  {
   "cell_type": "code",
   "execution_count": 1,
   "id": "50b1de1d",
   "metadata": {},
   "outputs": [
    {
     "name": "stdout",
     "output_type": "stream",
     "text": [
      "{\"api\":\"/api/v1\",\"help\":\"/documentation\"}\n",
      "\n"
     ]
    }
   ],
   "source": [
    "# Define base url to obtain api from\n",
    "\n",
    "import requests\n",
    "url= 'https://python.zgulde.net'\n",
    "print(requests.get(url).text)"
   ]
  },
  {
   "cell_type": "code",
   "execution_count": 2,
   "id": "fab1276e",
   "metadata": {},
   "outputs": [
    {
     "name": "stdout",
     "output_type": "stream",
     "text": [
      "{'items': [{'item_brand': 'Riceland', 'item_id': 1, 'item_name': 'Riceland American Jazmine Rice', 'item_price': 0.84, 'item_upc12': '35200264013', 'item_upc14': '35200264013'}, {'item_brand': 'Caress', 'item_id': 2, 'item_name': 'Caress Velvet Bliss Ultra Silkening Beauty Bar - 6 Ct', 'item_price': 6.44, 'item_upc12': '11111065925', 'item_upc14': '11111065925'}, {'item_brand': 'Earths Best', 'item_id': 3, 'item_name': 'Earths Best Organic Fruit Yogurt Smoothie Mixed Berry', 'item_price': 2.43, 'item_upc12': '23923330139', 'item_upc14': '23923330139'}, {'item_brand': 'Boars Head', 'item_id': 4, 'item_name': 'Boars Head Sliced White American Cheese - 120 Ct', 'item_price': 3.14, 'item_upc12': '208528800007', 'item_upc14': '208528800007'}, {'item_brand': 'Back To Nature', 'item_id': 5, 'item_name': 'Back To Nature Gluten Free White Cheddar Rice Thin Crackers', 'item_price': 2.61, 'item_upc12': '759283100036', 'item_upc14': '759283100036'}, {'item_brand': 'Sally Hansen', 'item_id': 6, 'item_name': 'Sally Hansen Nail Color Magnetic 903 Silver Elements', 'item_price': 6.93, 'item_upc12': '74170388732', 'item_upc14': '74170388732'}, {'item_brand': 'Twinings Of London', 'item_id': 7, 'item_name': 'Twinings Of London Classics Lady Grey Tea - 20 Ct', 'item_price': 9.64, 'item_upc12': '70177154004', 'item_upc14': '70177154004'}, {'item_brand': 'Lea & Perrins', 'item_id': 8, 'item_name': 'Lea & Perrins Marinade In-a-bag Cracked Peppercorn', 'item_price': 1.68, 'item_upc12': '51600080015', 'item_upc14': '51600080015'}, {'item_brand': 'Van De Kamps', 'item_id': 9, 'item_name': 'Van De Kamps Fillets Beer Battered - 10 Ct', 'item_price': 1.79, 'item_upc12': '19600923015', 'item_upc14': '19600923015'}, {'item_brand': 'Ahold', 'item_id': 10, 'item_name': 'Ahold Cocoa Almonds', 'item_price': 3.17, 'item_upc12': '688267141676', 'item_upc14': '688267141676'}, {'item_brand': 'Honest Tea', 'item_id': 11, 'item_name': 'Honest Tea Peach White Tea', 'item_price': 3.93, 'item_upc12': '657622604842', 'item_upc14': '657622604842'}, {'item_brand': 'Mueller', 'item_id': 12, 'item_name': 'Mueller Sport Care Basic Support Level Medium Elastic Knee Support', 'item_price': 8.4, 'item_upc12': '74676640211', 'item_upc14': '74676640211'}, {'item_brand': 'Garnier Nutritioniste', 'item_id': 13, 'item_name': 'Garnier Nutritioniste Moisture Rescue Fresh Cleansing Foam', 'item_price': 6.47, 'item_upc12': '603084234561', 'item_upc14': '603084234561'}, {'item_brand': 'Pamprin', 'item_id': 14, 'item_name': 'Pamprin Maximum Strength Multi-symptom Menstrual Pain Relief', 'item_price': 7.54, 'item_upc12': '41167300121', 'item_upc14': '41167300121'}, {'item_brand': 'Suave', 'item_id': 15, 'item_name': 'Suave Naturals Moisturizing Body Wash Creamy Tropical Coconut', 'item_price': 9.11, 'item_upc12': '79400847201', 'item_upc14': '79400847201'}, {'item_brand': 'Burts Bees', 'item_id': 16, 'item_name': 'Burts Bees Daily Moisturizing Cream Sensitive', 'item_price': 5.17, 'item_upc12': '792850014008', 'item_upc14': '792850014008'}, {'item_brand': 'Ducal', 'item_id': 17, 'item_name': 'Ducal Refried Red Beans', 'item_price': 1.16, 'item_upc12': '88313590791', 'item_upc14': '88313590791'}, {'item_brand': 'Scotch', 'item_id': 18, 'item_name': 'Scotch Removable Clear Mounting Squares - 35 Ct', 'item_price': 4.39, 'item_upc12': '21200725340', 'item_upc14': '21200725340'}, {'item_brand': 'Careone', 'item_id': 19, 'item_name': 'Careone Family Comb Set - 8 Ct', 'item_price': 0.74, 'item_upc12': '41520035646', 'item_upc14': '41520035646'}, {'item_brand': 'Usda Produce', 'item_id': 20, 'item_name': 'Plums Black', 'item_price': 5.62, 'item_upc12': '204040000000', 'item_upc14': '204040000000'}], 'max_page': 3, 'next_page': '/api/v1/items?page=2', 'page': 1, 'previous_page': None}\n"
     ]
    }
   ],
   "source": [
    "# create response containing the contents of the response from the api\n",
    "\n",
    "response = requests.get(url + '/api/v1/items')\n",
    "print(response.json()['payload'])"
   ]
  },
  {
   "cell_type": "code",
   "execution_count": 3,
   "id": "30c59c08",
   "metadata": {},
   "outputs": [],
   "source": [
    "#Turn that .json content into a dictionary for use with Python\n",
    "data = response.json()"
   ]
  },
  {
   "cell_type": "code",
   "execution_count": 4,
   "id": "8dbc7d83",
   "metadata": {},
   "outputs": [
    {
     "data": {
      "text/html": [
       "<div>\n",
       "<style scoped>\n",
       "    .dataframe tbody tr th:only-of-type {\n",
       "        vertical-align: middle;\n",
       "    }\n",
       "\n",
       "    .dataframe tbody tr th {\n",
       "        vertical-align: top;\n",
       "    }\n",
       "\n",
       "    .dataframe thead th {\n",
       "        text-align: right;\n",
       "    }\n",
       "</style>\n",
       "<table border=\"1\" class=\"dataframe\">\n",
       "  <thead>\n",
       "    <tr style=\"text-align: right;\">\n",
       "      <th></th>\n",
       "      <th>item_brand</th>\n",
       "      <th>item_id</th>\n",
       "      <th>item_name</th>\n",
       "      <th>item_price</th>\n",
       "      <th>item_upc12</th>\n",
       "      <th>item_upc14</th>\n",
       "    </tr>\n",
       "  </thead>\n",
       "  <tbody>\n",
       "    <tr>\n",
       "      <th>0</th>\n",
       "      <td>Riceland</td>\n",
       "      <td>1</td>\n",
       "      <td>Riceland American Jazmine Rice</td>\n",
       "      <td>0.84</td>\n",
       "      <td>35200264013</td>\n",
       "      <td>35200264013</td>\n",
       "    </tr>\n",
       "    <tr>\n",
       "      <th>1</th>\n",
       "      <td>Caress</td>\n",
       "      <td>2</td>\n",
       "      <td>Caress Velvet Bliss Ultra Silkening Beauty Bar...</td>\n",
       "      <td>6.44</td>\n",
       "      <td>11111065925</td>\n",
       "      <td>11111065925</td>\n",
       "    </tr>\n",
       "    <tr>\n",
       "      <th>2</th>\n",
       "      <td>Earths Best</td>\n",
       "      <td>3</td>\n",
       "      <td>Earths Best Organic Fruit Yogurt Smoothie Mixe...</td>\n",
       "      <td>2.43</td>\n",
       "      <td>23923330139</td>\n",
       "      <td>23923330139</td>\n",
       "    </tr>\n",
       "    <tr>\n",
       "      <th>3</th>\n",
       "      <td>Boars Head</td>\n",
       "      <td>4</td>\n",
       "      <td>Boars Head Sliced White American Cheese - 120 Ct</td>\n",
       "      <td>3.14</td>\n",
       "      <td>208528800007</td>\n",
       "      <td>208528800007</td>\n",
       "    </tr>\n",
       "    <tr>\n",
       "      <th>4</th>\n",
       "      <td>Back To Nature</td>\n",
       "      <td>5</td>\n",
       "      <td>Back To Nature Gluten Free White Cheddar Rice ...</td>\n",
       "      <td>2.61</td>\n",
       "      <td>759283100036</td>\n",
       "      <td>759283100036</td>\n",
       "    </tr>\n",
       "  </tbody>\n",
       "</table>\n",
       "</div>"
      ],
      "text/plain": [
       "       item_brand  item_id                                          item_name  \\\n",
       "0        Riceland        1                     Riceland American Jazmine Rice   \n",
       "1          Caress        2  Caress Velvet Bliss Ultra Silkening Beauty Bar...   \n",
       "2     Earths Best        3  Earths Best Organic Fruit Yogurt Smoothie Mixe...   \n",
       "3      Boars Head        4   Boars Head Sliced White American Cheese - 120 Ct   \n",
       "4  Back To Nature        5  Back To Nature Gluten Free White Cheddar Rice ...   \n",
       "\n",
       "   item_price    item_upc12    item_upc14  \n",
       "0        0.84   35200264013   35200264013  \n",
       "1        6.44   11111065925   11111065925  \n",
       "2        2.43   23923330139   23923330139  \n",
       "3        3.14  208528800007  208528800007  \n",
       "4        2.61  759283100036  759283100036  "
      ]
     },
     "execution_count": 4,
     "metadata": {},
     "output_type": "execute_result"
    }
   ],
   "source": [
    "#Create a dataframe containing the dictionary created from the .json sent by the api\n",
    "import pandas as pd\n",
    "\n",
    "df_items = pd.DataFrame(data['payload']['items'])\n",
    "df_items.head()"
   ]
  },
  {
   "cell_type": "markdown",
   "id": "f46dde72",
   "metadata": {},
   "source": [
    "#### 2. Do the same thing, but for stores (https://python.zgulde.net/api/v1/stores)"
   ]
  },
  {
   "cell_type": "code",
   "execution_count": 5,
   "id": "944d5b6a",
   "metadata": {},
   "outputs": [
    {
     "name": "stdout",
     "output_type": "stream",
     "text": [
      "{'max_page': 1, 'next_page': None, 'page': 1, 'previous_page': None, 'stores': [{'store_address': '12125 Alamo Ranch Pkwy', 'store_city': 'San Antonio', 'store_id': 1, 'store_state': 'TX', 'store_zipcode': '78253'}, {'store_address': '9255 FM 471 West', 'store_city': 'San Antonio', 'store_id': 2, 'store_state': 'TX', 'store_zipcode': '78251'}, {'store_address': '2118 Fredericksburg Rdj', 'store_city': 'San Antonio', 'store_id': 3, 'store_state': 'TX', 'store_zipcode': '78201'}, {'store_address': '516 S Flores St', 'store_city': 'San Antonio', 'store_id': 4, 'store_state': 'TX', 'store_zipcode': '78204'}, {'store_address': '1520 Austin Hwy', 'store_city': 'San Antonio', 'store_id': 5, 'store_state': 'TX', 'store_zipcode': '78218'}, {'store_address': '1015 S WW White Rd', 'store_city': 'San Antonio', 'store_id': 6, 'store_state': 'TX', 'store_zipcode': '78220'}, {'store_address': '12018 Perrin Beitel Rd', 'store_city': 'San Antonio', 'store_id': 7, 'store_state': 'TX', 'store_zipcode': '78217'}, {'store_address': '15000 San Pedro Ave', 'store_city': 'San Antonio', 'store_id': 8, 'store_state': 'TX', 'store_zipcode': '78232'}, {'store_address': '735 SW Military Dr', 'store_city': 'San Antonio', 'store_id': 9, 'store_state': 'TX', 'store_zipcode': '78221'}, {'store_address': '8503 NW Military Hwy', 'store_city': 'San Antonio', 'store_id': 10, 'store_state': 'TX', 'store_zipcode': '78231'}]}\n"
     ]
    }
   ],
   "source": [
    "# create response containing the stores from the api\n",
    "\n",
    "response_stores = requests.get(url + '/api/v1/stores')\n",
    "print(response_stores.json()['payload'])"
   ]
  },
  {
   "cell_type": "code",
   "execution_count": 6,
   "id": "295af5c1",
   "metadata": {},
   "outputs": [],
   "source": [
    "#Turn that .json content into a dictionary for use with Python\n",
    "data_stores = response_stores.json()"
   ]
  },
  {
   "cell_type": "code",
   "execution_count": 7,
   "id": "4f279938",
   "metadata": {},
   "outputs": [
    {
     "data": {
      "text/plain": [
       "dict_keys(['payload', 'status'])"
      ]
     },
     "execution_count": 7,
     "metadata": {},
     "output_type": "execute_result"
    }
   ],
   "source": [
    "#Look at keys of dictionary\n",
    "data_stores.keys()"
   ]
  },
  {
   "cell_type": "code",
   "execution_count": 8,
   "id": "3f1fbe07",
   "metadata": {},
   "outputs": [
    {
     "data": {
      "text/html": [
       "<div>\n",
       "<style scoped>\n",
       "    .dataframe tbody tr th:only-of-type {\n",
       "        vertical-align: middle;\n",
       "    }\n",
       "\n",
       "    .dataframe tbody tr th {\n",
       "        vertical-align: top;\n",
       "    }\n",
       "\n",
       "    .dataframe thead th {\n",
       "        text-align: right;\n",
       "    }\n",
       "</style>\n",
       "<table border=\"1\" class=\"dataframe\">\n",
       "  <thead>\n",
       "    <tr style=\"text-align: right;\">\n",
       "      <th></th>\n",
       "      <th>store_address</th>\n",
       "      <th>store_city</th>\n",
       "      <th>store_id</th>\n",
       "      <th>store_state</th>\n",
       "      <th>store_zipcode</th>\n",
       "    </tr>\n",
       "  </thead>\n",
       "  <tbody>\n",
       "    <tr>\n",
       "      <th>0</th>\n",
       "      <td>12125 Alamo Ranch Pkwy</td>\n",
       "      <td>San Antonio</td>\n",
       "      <td>1</td>\n",
       "      <td>TX</td>\n",
       "      <td>78253</td>\n",
       "    </tr>\n",
       "    <tr>\n",
       "      <th>1</th>\n",
       "      <td>9255 FM 471 West</td>\n",
       "      <td>San Antonio</td>\n",
       "      <td>2</td>\n",
       "      <td>TX</td>\n",
       "      <td>78251</td>\n",
       "    </tr>\n",
       "    <tr>\n",
       "      <th>2</th>\n",
       "      <td>2118 Fredericksburg Rdj</td>\n",
       "      <td>San Antonio</td>\n",
       "      <td>3</td>\n",
       "      <td>TX</td>\n",
       "      <td>78201</td>\n",
       "    </tr>\n",
       "    <tr>\n",
       "      <th>3</th>\n",
       "      <td>516 S Flores St</td>\n",
       "      <td>San Antonio</td>\n",
       "      <td>4</td>\n",
       "      <td>TX</td>\n",
       "      <td>78204</td>\n",
       "    </tr>\n",
       "    <tr>\n",
       "      <th>4</th>\n",
       "      <td>1520 Austin Hwy</td>\n",
       "      <td>San Antonio</td>\n",
       "      <td>5</td>\n",
       "      <td>TX</td>\n",
       "      <td>78218</td>\n",
       "    </tr>\n",
       "  </tbody>\n",
       "</table>\n",
       "</div>"
      ],
      "text/plain": [
       "             store_address   store_city  store_id store_state store_zipcode\n",
       "0   12125 Alamo Ranch Pkwy  San Antonio         1          TX         78253\n",
       "1         9255 FM 471 West  San Antonio         2          TX         78251\n",
       "2  2118 Fredericksburg Rdj  San Antonio         3          TX         78201\n",
       "3          516 S Flores St  San Antonio         4          TX         78204\n",
       "4          1520 Austin Hwy  San Antonio         5          TX         78218"
      ]
     },
     "execution_count": 8,
     "metadata": {},
     "output_type": "execute_result"
    }
   ],
   "source": [
    "#Create a dataframe containing the dictionary created from the .json sent by the api\n",
    "\n",
    "df_stores = pd.DataFrame(data_stores['payload']['stores'])\n",
    "df_stores.head()"
   ]
  },
  {
   "cell_type": "markdown",
   "id": "e6af0bda",
   "metadata": {},
   "source": [
    "#### 3. Extract the data for sales (https://python.zgulde.net/api/v1/sales). There are a lot of pages of data here, so your code will need to be a little more complex. Your code should continue fetching data from the next page until all of the data is extracted."
   ]
  },
  {
   "cell_type": "code",
   "execution_count": 9,
   "id": "d6471cac",
   "metadata": {
    "scrolled": true
   },
   "outputs": [],
   "source": [
    "#Iterating thru every page and concatenating the sales info from each page, we create a loop\n",
    "\n",
    "#acquire .json from url\n",
    "response_sales = requests.get(url + '/api/v1/sales')\n",
    "\n",
    "#turn .json content into dictionary\n",
    "data_sales = response_sales.json()\n",
    "\n",
    "#turn dictionary into a dataframe\n",
    "df_sales = pd.DataFrame(data_sales['payload']['sales'])\n",
    "\n",
    "#Get ready to iterate thru all pages \n",
    "num_pages = data_sales['payload']['max_page']\n",
    "\n",
    "# loop thru the iterations\n",
    "for i in range(1,num_pages):\n",
    "\n",
    "    response_sales = requests.get(url + data_sales['payload']['next_page'])\n",
    "    data_sales = response_sales.json()\n",
    "    df_sales = pd.concat([df_sales, pd.DataFrame(data_sales['payload']['sales'])])\n",
    "    "
   ]
  },
  {
   "cell_type": "code",
   "execution_count": 10,
   "id": "f85746cc",
   "metadata": {},
   "outputs": [
    {
     "data": {
      "text/plain": [
       "(913000, 5)"
      ]
     },
     "execution_count": 10,
     "metadata": {},
     "output_type": "execute_result"
    }
   ],
   "source": [
    "df_sales.shape"
   ]
  },
  {
   "cell_type": "markdown",
   "id": "aedc3229",
   "metadata": {},
   "source": [
    "####  4. Save the data in your files to local csv files so that it will be faster to access in the future."
   ]
  },
  {
   "cell_type": "code",
   "execution_count": 11,
   "id": "0b5bb6f9",
   "metadata": {},
   "outputs": [],
   "source": [
    "#create a csv from sales data and store locally\n",
    "df_sales.to_csv('sales.csv')"
   ]
  },
  {
   "cell_type": "markdown",
   "id": "399a46a4",
   "metadata": {},
   "source": [
    "#### 5. Combine the data from your three separate dataframes into one large dataframe."
   ]
  },
  {
   "cell_type": "code",
   "execution_count": 12,
   "id": "47253209",
   "metadata": {},
   "outputs": [
    {
     "data": {
      "text/html": [
       "<div>\n",
       "<style scoped>\n",
       "    .dataframe tbody tr th:only-of-type {\n",
       "        vertical-align: middle;\n",
       "    }\n",
       "\n",
       "    .dataframe tbody tr th {\n",
       "        vertical-align: top;\n",
       "    }\n",
       "\n",
       "    .dataframe thead th {\n",
       "        text-align: right;\n",
       "    }\n",
       "</style>\n",
       "<table border=\"1\" class=\"dataframe\">\n",
       "  <thead>\n",
       "    <tr style=\"text-align: right;\">\n",
       "      <th></th>\n",
       "      <th>item_brand</th>\n",
       "      <th>item_id</th>\n",
       "      <th>item_name</th>\n",
       "      <th>item_price</th>\n",
       "      <th>item_upc12</th>\n",
       "      <th>item_upc14</th>\n",
       "    </tr>\n",
       "  </thead>\n",
       "  <tbody>\n",
       "    <tr>\n",
       "      <th>0</th>\n",
       "      <td>Riceland</td>\n",
       "      <td>1</td>\n",
       "      <td>Riceland American Jazmine Rice</td>\n",
       "      <td>0.84</td>\n",
       "      <td>35200264013</td>\n",
       "      <td>35200264013</td>\n",
       "    </tr>\n",
       "    <tr>\n",
       "      <th>1</th>\n",
       "      <td>Caress</td>\n",
       "      <td>2</td>\n",
       "      <td>Caress Velvet Bliss Ultra Silkening Beauty Bar...</td>\n",
       "      <td>6.44</td>\n",
       "      <td>11111065925</td>\n",
       "      <td>11111065925</td>\n",
       "    </tr>\n",
       "    <tr>\n",
       "      <th>2</th>\n",
       "      <td>Earths Best</td>\n",
       "      <td>3</td>\n",
       "      <td>Earths Best Organic Fruit Yogurt Smoothie Mixe...</td>\n",
       "      <td>2.43</td>\n",
       "      <td>23923330139</td>\n",
       "      <td>23923330139</td>\n",
       "    </tr>\n",
       "    <tr>\n",
       "      <th>3</th>\n",
       "      <td>Boars Head</td>\n",
       "      <td>4</td>\n",
       "      <td>Boars Head Sliced White American Cheese - 120 Ct</td>\n",
       "      <td>3.14</td>\n",
       "      <td>208528800007</td>\n",
       "      <td>208528800007</td>\n",
       "    </tr>\n",
       "    <tr>\n",
       "      <th>4</th>\n",
       "      <td>Back To Nature</td>\n",
       "      <td>5</td>\n",
       "      <td>Back To Nature Gluten Free White Cheddar Rice ...</td>\n",
       "      <td>2.61</td>\n",
       "      <td>759283100036</td>\n",
       "      <td>759283100036</td>\n",
       "    </tr>\n",
       "  </tbody>\n",
       "</table>\n",
       "</div>"
      ],
      "text/plain": [
       "       item_brand  item_id                                          item_name  \\\n",
       "0        Riceland        1                     Riceland American Jazmine Rice   \n",
       "1          Caress        2  Caress Velvet Bliss Ultra Silkening Beauty Bar...   \n",
       "2     Earths Best        3  Earths Best Organic Fruit Yogurt Smoothie Mixe...   \n",
       "3      Boars Head        4   Boars Head Sliced White American Cheese - 120 Ct   \n",
       "4  Back To Nature        5  Back To Nature Gluten Free White Cheddar Rice ...   \n",
       "\n",
       "   item_price    item_upc12    item_upc14  \n",
       "0        0.84   35200264013   35200264013  \n",
       "1        6.44   11111065925   11111065925  \n",
       "2        2.43   23923330139   23923330139  \n",
       "3        3.14  208528800007  208528800007  \n",
       "4        2.61  759283100036  759283100036  "
      ]
     },
     "execution_count": 12,
     "metadata": {},
     "output_type": "execute_result"
    }
   ],
   "source": [
    "#To merge all data, look at all 3 dataframes and look for key to merge on\n",
    "df_items.head()"
   ]
  },
  {
   "cell_type": "code",
   "execution_count": 15,
   "id": "16e97c34",
   "metadata": {},
   "outputs": [
    {
     "data": {
      "text/html": [
       "<div>\n",
       "<style scoped>\n",
       "    .dataframe tbody tr th:only-of-type {\n",
       "        vertical-align: middle;\n",
       "    }\n",
       "\n",
       "    .dataframe tbody tr th {\n",
       "        vertical-align: top;\n",
       "    }\n",
       "\n",
       "    .dataframe thead th {\n",
       "        text-align: right;\n",
       "    }\n",
       "</style>\n",
       "<table border=\"1\" class=\"dataframe\">\n",
       "  <thead>\n",
       "    <tr style=\"text-align: right;\">\n",
       "      <th></th>\n",
       "      <th>store_address</th>\n",
       "      <th>store_city</th>\n",
       "      <th>store_id</th>\n",
       "      <th>store_state</th>\n",
       "      <th>store_zipcode</th>\n",
       "    </tr>\n",
       "  </thead>\n",
       "  <tbody>\n",
       "    <tr>\n",
       "      <th>0</th>\n",
       "      <td>12125 Alamo Ranch Pkwy</td>\n",
       "      <td>San Antonio</td>\n",
       "      <td>1</td>\n",
       "      <td>TX</td>\n",
       "      <td>78253</td>\n",
       "    </tr>\n",
       "    <tr>\n",
       "      <th>1</th>\n",
       "      <td>9255 FM 471 West</td>\n",
       "      <td>San Antonio</td>\n",
       "      <td>2</td>\n",
       "      <td>TX</td>\n",
       "      <td>78251</td>\n",
       "    </tr>\n",
       "    <tr>\n",
       "      <th>2</th>\n",
       "      <td>2118 Fredericksburg Rdj</td>\n",
       "      <td>San Antonio</td>\n",
       "      <td>3</td>\n",
       "      <td>TX</td>\n",
       "      <td>78201</td>\n",
       "    </tr>\n",
       "    <tr>\n",
       "      <th>3</th>\n",
       "      <td>516 S Flores St</td>\n",
       "      <td>San Antonio</td>\n",
       "      <td>4</td>\n",
       "      <td>TX</td>\n",
       "      <td>78204</td>\n",
       "    </tr>\n",
       "    <tr>\n",
       "      <th>4</th>\n",
       "      <td>1520 Austin Hwy</td>\n",
       "      <td>San Antonio</td>\n",
       "      <td>5</td>\n",
       "      <td>TX</td>\n",
       "      <td>78218</td>\n",
       "    </tr>\n",
       "  </tbody>\n",
       "</table>\n",
       "</div>"
      ],
      "text/plain": [
       "             store_address   store_city  store_id store_state store_zipcode\n",
       "0   12125 Alamo Ranch Pkwy  San Antonio         1          TX         78253\n",
       "1         9255 FM 471 West  San Antonio         2          TX         78251\n",
       "2  2118 Fredericksburg Rdj  San Antonio         3          TX         78201\n",
       "3          516 S Flores St  San Antonio         4          TX         78204\n",
       "4          1520 Austin Hwy  San Antonio         5          TX         78218"
      ]
     },
     "execution_count": 15,
     "metadata": {},
     "output_type": "execute_result"
    }
   ],
   "source": [
    "df_stores.head()"
   ]
  },
  {
   "cell_type": "code",
   "execution_count": 16,
   "id": "85726a9d",
   "metadata": {},
   "outputs": [
    {
     "data": {
      "text/html": [
       "<div>\n",
       "<style scoped>\n",
       "    .dataframe tbody tr th:only-of-type {\n",
       "        vertical-align: middle;\n",
       "    }\n",
       "\n",
       "    .dataframe tbody tr th {\n",
       "        vertical-align: top;\n",
       "    }\n",
       "\n",
       "    .dataframe thead th {\n",
       "        text-align: right;\n",
       "    }\n",
       "</style>\n",
       "<table border=\"1\" class=\"dataframe\">\n",
       "  <thead>\n",
       "    <tr style=\"text-align: right;\">\n",
       "      <th></th>\n",
       "      <th>item</th>\n",
       "      <th>sale_amount</th>\n",
       "      <th>sale_date</th>\n",
       "      <th>sale_id</th>\n",
       "      <th>store</th>\n",
       "    </tr>\n",
       "  </thead>\n",
       "  <tbody>\n",
       "    <tr>\n",
       "      <th>0</th>\n",
       "      <td>1</td>\n",
       "      <td>13.0</td>\n",
       "      <td>Tue, 01 Jan 2013 00:00:00 GMT</td>\n",
       "      <td>1</td>\n",
       "      <td>1</td>\n",
       "    </tr>\n",
       "    <tr>\n",
       "      <th>1</th>\n",
       "      <td>1</td>\n",
       "      <td>11.0</td>\n",
       "      <td>Wed, 02 Jan 2013 00:00:00 GMT</td>\n",
       "      <td>2</td>\n",
       "      <td>1</td>\n",
       "    </tr>\n",
       "    <tr>\n",
       "      <th>2</th>\n",
       "      <td>1</td>\n",
       "      <td>14.0</td>\n",
       "      <td>Thu, 03 Jan 2013 00:00:00 GMT</td>\n",
       "      <td>3</td>\n",
       "      <td>1</td>\n",
       "    </tr>\n",
       "    <tr>\n",
       "      <th>3</th>\n",
       "      <td>1</td>\n",
       "      <td>13.0</td>\n",
       "      <td>Fri, 04 Jan 2013 00:00:00 GMT</td>\n",
       "      <td>4</td>\n",
       "      <td>1</td>\n",
       "    </tr>\n",
       "    <tr>\n",
       "      <th>4</th>\n",
       "      <td>1</td>\n",
       "      <td>10.0</td>\n",
       "      <td>Sat, 05 Jan 2013 00:00:00 GMT</td>\n",
       "      <td>5</td>\n",
       "      <td>1</td>\n",
       "    </tr>\n",
       "  </tbody>\n",
       "</table>\n",
       "</div>"
      ],
      "text/plain": [
       "   item  sale_amount                      sale_date  sale_id  store\n",
       "0     1         13.0  Tue, 01 Jan 2013 00:00:00 GMT        1      1\n",
       "1     1         11.0  Wed, 02 Jan 2013 00:00:00 GMT        2      1\n",
       "2     1         14.0  Thu, 03 Jan 2013 00:00:00 GMT        3      1\n",
       "3     1         13.0  Fri, 04 Jan 2013 00:00:00 GMT        4      1\n",
       "4     1         10.0  Sat, 05 Jan 2013 00:00:00 GMT        5      1"
      ]
     },
     "execution_count": 16,
     "metadata": {},
     "output_type": "execute_result"
    }
   ],
   "source": [
    "df_sales.head()"
   ]
  },
  {
   "cell_type": "code",
   "execution_count": 17,
   "id": "23017f8f",
   "metadata": {},
   "outputs": [],
   "source": [
    "df_sales_and_stores = pd.merge(df_sales, df_stores, how='left', left_on='store' , right_on='store_id')"
   ]
  },
  {
   "cell_type": "code",
   "execution_count": 18,
   "id": "94c7fd3b",
   "metadata": {},
   "outputs": [
    {
     "name": "stdout",
     "output_type": "stream",
     "text": [
      "<class 'pandas.core.frame.DataFrame'>\n",
      "Int64Index: 913000 entries, 0 to 912999\n",
      "Data columns (total 10 columns):\n",
      " #   Column         Non-Null Count   Dtype  \n",
      "---  ------         --------------   -----  \n",
      " 0   item           913000 non-null  int64  \n",
      " 1   sale_amount    913000 non-null  float64\n",
      " 2   sale_date      913000 non-null  object \n",
      " 3   sale_id        913000 non-null  int64  \n",
      " 4   store          913000 non-null  int64  \n",
      " 5   store_address  913000 non-null  object \n",
      " 6   store_city     913000 non-null  object \n",
      " 7   store_id       913000 non-null  int64  \n",
      " 8   store_state    913000 non-null  object \n",
      " 9   store_zipcode  913000 non-null  object \n",
      "dtypes: float64(1), int64(4), object(5)\n",
      "memory usage: 76.6+ MB\n"
     ]
    }
   ],
   "source": [
    "df_sales_and_stores.info()"
   ]
  },
  {
   "cell_type": "code",
   "execution_count": 20,
   "id": "4ab5408a",
   "metadata": {},
   "outputs": [],
   "source": [
    "df_all = pd.merge(df_sales_and_stores, df_items, how='left', left_on='item', right_on='item_id')"
   ]
  },
  {
   "cell_type": "code",
   "execution_count": 21,
   "id": "9566a2c6",
   "metadata": {},
   "outputs": [
    {
     "name": "stdout",
     "output_type": "stream",
     "text": [
      "<class 'pandas.core.frame.DataFrame'>\n",
      "Int64Index: 913000 entries, 0 to 912999\n",
      "Data columns (total 16 columns):\n",
      " #   Column         Non-Null Count   Dtype  \n",
      "---  ------         --------------   -----  \n",
      " 0   item           913000 non-null  int64  \n",
      " 1   sale_amount    913000 non-null  float64\n",
      " 2   sale_date      913000 non-null  object \n",
      " 3   sale_id        913000 non-null  int64  \n",
      " 4   store          913000 non-null  int64  \n",
      " 5   store_address  913000 non-null  object \n",
      " 6   store_city     913000 non-null  object \n",
      " 7   store_id       913000 non-null  int64  \n",
      " 8   store_state    913000 non-null  object \n",
      " 9   store_zipcode  913000 non-null  object \n",
      " 10  item_brand     365200 non-null  object \n",
      " 11  item_id        365200 non-null  float64\n",
      " 12  item_name      365200 non-null  object \n",
      " 13  item_price     365200 non-null  float64\n",
      " 14  item_upc12     365200 non-null  object \n",
      " 15  item_upc14     365200 non-null  object \n",
      "dtypes: float64(3), int64(4), object(9)\n",
      "memory usage: 118.4+ MB\n"
     ]
    }
   ],
   "source": [
    "df_all.info()"
   ]
  },
  {
   "cell_type": "markdown",
   "id": "94b6315f",
   "metadata": {},
   "source": [
    "#### 6. Acquire the Open Power Systems Data for Germany, which has been rapidly expanding its renewable energy production in recent years. The data set includes country-wide totals of electricity consumption, wind power production, and solar power production for 2006-2017. You can get the data here: https://raw.githubusercontent.com/jenfly/opsd/master/opsd_germany_daily.csv"
   ]
  },
  {
   "cell_type": "code",
   "execution_count": 13,
   "id": "c1a1533a",
   "metadata": {},
   "outputs": [],
   "source": [
    "df_germany = pd.read_csv('https://raw.githubusercontent.com/jenfly/opsd/master/opsd_germany_daily.csv')"
   ]
  },
  {
   "cell_type": "code",
   "execution_count": 14,
   "id": "66dba2d6",
   "metadata": {},
   "outputs": [
    {
     "data": {
      "text/html": [
       "<div>\n",
       "<style scoped>\n",
       "    .dataframe tbody tr th:only-of-type {\n",
       "        vertical-align: middle;\n",
       "    }\n",
       "\n",
       "    .dataframe tbody tr th {\n",
       "        vertical-align: top;\n",
       "    }\n",
       "\n",
       "    .dataframe thead th {\n",
       "        text-align: right;\n",
       "    }\n",
       "</style>\n",
       "<table border=\"1\" class=\"dataframe\">\n",
       "  <thead>\n",
       "    <tr style=\"text-align: right;\">\n",
       "      <th></th>\n",
       "      <th>Date</th>\n",
       "      <th>Consumption</th>\n",
       "      <th>Wind</th>\n",
       "      <th>Solar</th>\n",
       "      <th>Wind+Solar</th>\n",
       "    </tr>\n",
       "  </thead>\n",
       "  <tbody>\n",
       "    <tr>\n",
       "      <th>0</th>\n",
       "      <td>2006-01-01</td>\n",
       "      <td>1069.184</td>\n",
       "      <td>NaN</td>\n",
       "      <td>NaN</td>\n",
       "      <td>NaN</td>\n",
       "    </tr>\n",
       "    <tr>\n",
       "      <th>1</th>\n",
       "      <td>2006-01-02</td>\n",
       "      <td>1380.521</td>\n",
       "      <td>NaN</td>\n",
       "      <td>NaN</td>\n",
       "      <td>NaN</td>\n",
       "    </tr>\n",
       "    <tr>\n",
       "      <th>2</th>\n",
       "      <td>2006-01-03</td>\n",
       "      <td>1442.533</td>\n",
       "      <td>NaN</td>\n",
       "      <td>NaN</td>\n",
       "      <td>NaN</td>\n",
       "    </tr>\n",
       "    <tr>\n",
       "      <th>3</th>\n",
       "      <td>2006-01-04</td>\n",
       "      <td>1457.217</td>\n",
       "      <td>NaN</td>\n",
       "      <td>NaN</td>\n",
       "      <td>NaN</td>\n",
       "    </tr>\n",
       "    <tr>\n",
       "      <th>4</th>\n",
       "      <td>2006-01-05</td>\n",
       "      <td>1477.131</td>\n",
       "      <td>NaN</td>\n",
       "      <td>NaN</td>\n",
       "      <td>NaN</td>\n",
       "    </tr>\n",
       "  </tbody>\n",
       "</table>\n",
       "</div>"
      ],
      "text/plain": [
       "         Date  Consumption  Wind  Solar  Wind+Solar\n",
       "0  2006-01-01     1069.184   NaN    NaN         NaN\n",
       "1  2006-01-02     1380.521   NaN    NaN         NaN\n",
       "2  2006-01-03     1442.533   NaN    NaN         NaN\n",
       "3  2006-01-04     1457.217   NaN    NaN         NaN\n",
       "4  2006-01-05     1477.131   NaN    NaN         NaN"
      ]
     },
     "execution_count": 14,
     "metadata": {},
     "output_type": "execute_result"
    }
   ],
   "source": [
    "df_germany.head()"
   ]
  },
  {
   "cell_type": "markdown",
   "id": "280c5fc0",
   "metadata": {},
   "source": [
    "#### 7. Make sure all the work that you have done above is reproducible. That is, you should put the code above into separate functions in the acquire.py file and be able to re-run the functions and get the same data."
   ]
  },
  {
   "cell_type": "code",
   "execution_count": null,
   "id": "b3f9a4aa",
   "metadata": {},
   "outputs": [],
   "source": [
    "# Created functions in separate acquire.py file"
   ]
  }
 ],
 "metadata": {
  "kernelspec": {
   "display_name": "Python 3",
   "language": "python",
   "name": "python3"
  },
  "language_info": {
   "codemirror_mode": {
    "name": "ipython",
    "version": 3
   },
   "file_extension": ".py",
   "mimetype": "text/x-python",
   "name": "python",
   "nbconvert_exporter": "python",
   "pygments_lexer": "ipython3",
   "version": "3.8.8"
  }
 },
 "nbformat": 4,
 "nbformat_minor": 5
}
